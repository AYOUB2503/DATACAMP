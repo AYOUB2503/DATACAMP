{
  "nbformat": 4,
  "nbformat_minor": 0,
  "metadata": {
    "colab": {
      "name": "Time serie",
      "provenance": [],
      "authorship_tag": "ABX9TyPYcrnLvm1wAqhzyj6ssNWa",
      "include_colab_link": true
    },
    "kernelspec": {
      "name": "python3",
      "display_name": "Python 3"
    }
  },
  "cells": [
    {
      "cell_type": "markdown",
      "metadata": {
        "id": "view-in-github",
        "colab_type": "text"
      },
      "source": [
        "<a href=\"https://colab.research.google.com/github/Ayoub2503/DATACAMP/blob/main/Time_serie.ipynb\" target=\"_parent\"><img src=\"https://colab.research.google.com/assets/colab-badge.svg\" alt=\"Open In Colab\"/></a>"
      ]
    },
    {
      "cell_type": "code",
      "metadata": {
        "id": "wh5UhTUR7Zta"
      },
      "source": [
        "import pandas as pd\r\n",
        "import seaborn as sns \r\n",
        "import numpy as np \r\n"
      ],
      "execution_count": 1,
      "outputs": []
    },
    {
      "cell_type": "code",
      "metadata": {
        "id": "e1MF6uE_7lGP"
      },
      "source": [
        "url=\"\""
      ],
      "execution_count": null,
      "outputs": []
    }
  ]
}